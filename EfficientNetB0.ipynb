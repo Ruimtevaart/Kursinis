{
 "cells": [
  {
   "cell_type": "code",
   "execution_count": 31,
   "metadata": {
    "_cell_guid": "b1076dfc-b9ad-4769-8c92-a6c4dae69d19",
    "_kg_hide-input": true,
    "_kg_hide-output": true,
    "_uuid": "8f2839f25d086af736a60e9eeb907d3b93b6e0e5",
    "execution": {
     "iopub.execute_input": "2020-12-20T18:41:07.121938Z",
     "iopub.status.busy": "2020-12-20T18:41:07.121134Z",
     "iopub.status.idle": "2020-12-20T18:41:14.185995Z",
     "shell.execute_reply": "2020-12-20T18:41:14.186810Z"
    },
    "executionInfo": {
     "elapsed": 360,
     "status": "ok",
     "timestamp": 1672747317922,
     "user": {
      "displayName": "Grantas Bičiulaitis",
      "userId": "11886115887689804485"
     },
     "user_tz": -120
    },
    "id": "YZB3iQ7XMgnO",
    "papermill": {
     "duration": 7.094187,
     "end_time": "2020-12-20T18:41:14.187028",
     "exception": false,
     "start_time": "2020-12-20T18:41:07.092841",
     "status": "completed"
    },
    "tags": []
   },
   "outputs": [],
   "source": [
    "import numpy as np\n",
    "import pandas as pd\n",
    "import matplotlib.pyplot as plt\n",
    "import seaborn as sns\n",
    "import datetime\n",
    "\n",
    "from sklearn.model_selection import train_test_split\n",
    "from sklearn.metrics import accuracy_score\n",
    "import tensorflow as tf\n",
    "from tensorflow.keras import models, layers\n",
    "from tensorflow.keras.preprocessing.image import ImageDataGenerator\n",
    "from keras.callbacks import ModelCheckpoint, EarlyStopping, ReduceLROnPlateau\n",
    "from tensorflow.keras.applications import ResNet50, DenseNet121, EfficientNetB0\n",
    "from tensorflow.keras.optimizers import Adam\n",
    "\n",
    "# ignoring warnings\n",
    "import warnings\n",
    "warnings.simplefilter(\"ignore\")\n",
    "\n",
    "import os, cv2, json\n",
    "from PIL import Image\n",
    "\n",
    "import pickle"
   ]
  },
  {
   "cell_type": "code",
   "execution_count": 32,
   "metadata": {
    "_cell_guid": "79c7e3d0-c299-4dcb-8224-4455121ee9b0",
    "_uuid": "d629ff2d2480ee46fbb7e2d37f6b5fab8052498a",
    "colab": {
     "base_uri": "https://localhost:8080/"
    },
    "execution": {
     "iopub.execute_input": "2020-12-20T18:41:14.317399Z",
     "iopub.status.busy": "2020-12-20T18:41:14.316491Z",
     "iopub.status.idle": "2020-12-20T18:41:14.320382Z",
     "shell.execute_reply": "2020-12-20T18:41:14.321182Z"
    },
    "executionInfo": {
     "elapsed": 241,
     "status": "ok",
     "timestamp": 1669052656291,
     "user": {
      "displayName": "Grantas Bičiulaitis",
      "userId": "11886115887689804485"
     },
     "user_tz": -120
    },
    "id": "p2qLDROZMgnP",
    "outputId": "1fd04553-a793-4ad6-b169-7a5f596a9c91",
    "papermill": {
     "duration": 0.042951,
     "end_time": "2020-12-20T18:41:14.321372",
     "exception": false,
     "start_time": "2020-12-20T18:41:14.278421",
     "status": "completed"
    },
    "tags": []
   },
   "outputs": [],
   "source": [
    "WORK_DIR = 'C:/Universitetas/Kursinis/Dataset'\n",
    "# os.listdir(WORK_DIR)"
   ]
  },
  {
   "cell_type": "code",
   "execution_count": 33,
   "metadata": {
    "colab": {
     "base_uri": "https://localhost:8080/"
    },
    "execution": {
     "iopub.execute_input": "2020-12-20T18:41:14.452686Z",
     "iopub.status.busy": "2020-12-20T18:41:14.451803Z",
     "iopub.status.idle": "2020-12-20T18:41:14.813654Z",
     "shell.execute_reply": "2020-12-20T18:41:14.814796Z"
    },
    "executionInfo": {
     "elapsed": 387,
     "status": "ok",
     "timestamp": 1669052957199,
     "user": {
      "displayName": "Grantas Bičiulaitis",
      "userId": "11886115887689804485"
     },
     "user_tz": -120
    },
    "id": "N489lBqrMgnQ",
    "outputId": "793ad257-b1f3-40a1-efb8-132295b8a19a",
    "papermill": {
     "duration": 0.40067,
     "end_time": "2020-12-20T18:41:14.815090",
     "exception": false,
     "start_time": "2020-12-20T18:41:14.414420",
     "status": "completed"
    },
    "tags": []
   },
   "outputs": [
    {
     "name": "stdout",
     "output_type": "stream",
     "text": [
      "Iš viso nuotraukų: 21397\n"
     ]
    }
   ],
   "source": [
    "print('Iš viso nuotraukų: %d' %len(os.listdir(\n",
    "    os.path.join(WORK_DIR, \"train_images\"))))"
   ]
  },
  {
   "cell_type": "code",
   "execution_count": 34,
   "metadata": {
    "colab": {
     "base_uri": "https://localhost:8080/"
    },
    "execution": {
     "iopub.execute_input": "2020-12-20T18:41:14.871508Z",
     "iopub.status.busy": "2020-12-20T18:41:14.870897Z",
     "iopub.status.idle": "2020-12-20T18:41:14.878550Z",
     "shell.execute_reply": "2020-12-20T18:41:14.879191Z"
    },
    "executionInfo": {
     "elapsed": 648,
     "status": "ok",
     "timestamp": 1669053091198,
     "user": {
      "displayName": "Grantas Bičiulaitis",
      "userId": "11886115887689804485"
     },
     "user_tz": -120
    },
    "id": "VD_mLGn1MgnR",
    "outputId": "86548231-8159-4870-a059-705c89d0cae1",
    "papermill": {
     "duration": 0.036212,
     "end_time": "2020-12-20T18:41:14.879357",
     "exception": false,
     "start_time": "2020-12-20T18:41:14.843145",
     "status": "completed"
    },
    "tags": []
   },
   "outputs": [
    {
     "name": "stdout",
     "output_type": "stream",
     "text": [
      "{\n",
      "    \"0\": \"Cassava Bacterial Blight (CBB)\",\n",
      "    \"1\": \"Cassava Brown Streak Disease (CBSD)\",\n",
      "    \"2\": \"Cassava Green Mottle (CGM)\",\n",
      "    \"3\": \"Cassava Mosaic Disease (CMD)\",\n",
      "    \"4\": \"Healthy\"\n",
      "}\n"
     ]
    }
   ],
   "source": [
    "with open(os.path.join(WORK_DIR, \"label_num_to_disease_map.json\")) as file:\n",
    "    print(json.dumps(json.loads(file.read()), indent=4))"
   ]
  },
  {
   "cell_type": "code",
   "execution_count": 35,
   "metadata": {
    "colab": {
     "base_uri": "https://localhost:8080/",
     "height": 206
    },
    "execution": {
     "iopub.execute_input": "2020-12-20T18:41:14.934987Z",
     "iopub.status.busy": "2020-12-20T18:41:14.934339Z",
     "iopub.status.idle": "2020-12-20T18:41:14.978079Z",
     "shell.execute_reply": "2020-12-20T18:41:14.977102Z"
    },
    "executionInfo": {
     "elapsed": 570,
     "status": "ok",
     "timestamp": 1669053093702,
     "user": {
      "displayName": "Grantas Bičiulaitis",
      "userId": "11886115887689804485"
     },
     "user_tz": -120
    },
    "id": "Ti8Of1qiMgnR",
    "outputId": "f2558c99-2e2d-4e56-8926-526600d36adc",
    "papermill": {
     "duration": 0.0738,
     "end_time": "2020-12-20T18:41:14.978189",
     "exception": false,
     "start_time": "2020-12-20T18:41:14.904389",
     "status": "completed"
    },
    "tags": []
   },
   "outputs": [],
   "source": [
    "train_labels = pd.read_csv(os.path.join(WORK_DIR, \"train.csv\"))\n",
    "# train_labels.head()"
   ]
  },
  {
   "cell_type": "code",
   "execution_count": 36,
   "metadata": {
    "execution": {
     "iopub.execute_input": "2020-12-20T18:41:18.283016Z",
     "iopub.status.busy": "2020-12-20T18:41:18.282266Z",
     "iopub.status.idle": "2020-12-20T18:41:18.286897Z",
     "shell.execute_reply": "2020-12-20T18:41:18.287381Z"
    },
    "id": "EfT6uv1fMgnU",
    "papermill": {
     "duration": 0.076677,
     "end_time": "2020-12-20T18:41:18.287506",
     "exception": false,
     "start_time": "2020-12-20T18:41:18.210829",
     "status": "completed"
    },
    "tags": []
   },
   "outputs": [],
   "source": [
    "BATCH_SIZE = 16\n",
    "STEPS_PER_EPOCH = len(train_labels)*0.8 / BATCH_SIZE\n",
    "VALIDATION_STEPS = len(train_labels)*0.2 / BATCH_SIZE\n",
    "EPOCHS = 10\n",
    "TARGET_SIZE = 300"
   ]
  },
  {
   "cell_type": "code",
   "execution_count": 37,
   "metadata": {
    "colab": {
     "base_uri": "https://localhost:8080/"
    },
    "execution": {
     "iopub.execute_input": "2020-12-20T18:41:18.454634Z",
     "iopub.status.busy": "2020-12-20T18:41:18.453339Z",
     "iopub.status.idle": "2020-12-20T18:41:40.065947Z",
     "shell.execute_reply": "2020-12-20T18:41:40.065115Z"
    },
    "executionInfo": {
     "elapsed": 6435,
     "status": "ok",
     "timestamp": 1669053551357,
     "user": {
      "displayName": "Grantas Bičiulaitis",
      "userId": "11886115887689804485"
     },
     "user_tz": -120
    },
    "id": "t2yA9GSAMgnU",
    "outputId": "3246a96b-8894-49d2-8df0-10e5cd2bc3e9",
    "papermill": {
     "duration": 21.716004,
     "end_time": "2020-12-20T18:41:40.066067",
     "exception": false,
     "start_time": "2020-12-20T18:41:18.350063",
     "status": "completed"
    },
    "tags": []
   },
   "outputs": [
    {
     "name": "stdout",
     "output_type": "stream",
     "text": [
      "Found 17118 validated image filenames belonging to 5 classes.\n",
      "Found 4279 validated image filenames belonging to 5 classes.\n"
     ]
    }
   ],
   "source": [
    "train_labels.label = train_labels.label.astype('str')\n",
    "\n",
    "train_generator = ImageDataGenerator(validation_split = 0.2,\n",
    "                                     preprocessing_function = None,\n",
    "                                     zoom_range = 0.2,\n",
    "                                     cval = 0.2,\n",
    "                                     horizontal_flip = True,\n",
    "                                     vertical_flip = True,\n",
    "                                     fill_mode = 'nearest',\n",
    "                                     shear_range = 0.2,\n",
    "                                     height_shift_range = 0.2,\n",
    "                                     width_shift_range = 0.2) \\\n",
    "    .flow_from_dataframe(train_labels,\n",
    "                         directory = os.path.join(WORK_DIR, \"train_images\"),\n",
    "                         subset = \"training\",\n",
    "                         x_col = \"image_id\",\n",
    "                         y_col = \"label\",\n",
    "                         target_size = (TARGET_SIZE, TARGET_SIZE),\n",
    "                         batch_size = BATCH_SIZE,\n",
    "                         class_mode = \"sparse\")\n",
    "\n",
    "validation_generator = ImageDataGenerator(validation_split = 0.2) \\\n",
    "    .flow_from_dataframe(train_labels,\n",
    "                         directory = os.path.join(WORK_DIR, \"train_images\"),\n",
    "                         subset = \"validation\",\n",
    "                         x_col = \"image_id\",\n",
    "                         y_col = \"label\",\n",
    "                         target_size = (TARGET_SIZE, TARGET_SIZE),\n",
    "                         batch_size = BATCH_SIZE,\n",
    "                         class_mode = \"sparse\")"
   ]
  },
  {
   "cell_type": "code",
   "execution_count": 38,
   "metadata": {
    "execution": {
     "iopub.execute_input": "2020-12-20T18:41:40.329422Z",
     "iopub.status.busy": "2020-12-20T18:41:40.327460Z",
     "iopub.status.idle": "2020-12-20T18:41:40.330113Z",
     "shell.execute_reply": "2020-12-20T18:41:40.330588Z"
    },
    "id": "x-YEY6atMgnV",
    "papermill": {
     "duration": 0.074092,
     "end_time": "2020-12-20T18:41:40.330720",
     "exception": false,
     "start_time": "2020-12-20T18:41:40.256628",
     "status": "completed"
    },
    "tags": []
   },
   "outputs": [],
   "source": [
    "def create_model():\n",
    "    model = models.Sequential()\n",
    "\n",
    "    model.add(EfficientNetB0(include_top = False, weights = 'imagenet',\n",
    "                             input_shape = (TARGET_SIZE, TARGET_SIZE, 3)))\n",
    "    \n",
    "    model.add(layers.GlobalAveragePooling2D())\n",
    "    model.add(layers.Dense(5, activation = \"softmax\"))\n",
    "\n",
    "    model.compile(optimizer = Adam(lr = 0.001),\n",
    "                  loss = \"sparse_categorical_crossentropy\",\n",
    "                  metrics = [\"acc\"])\n",
    "    return model"
   ]
  },
  {
   "cell_type": "code",
   "execution_count": 39,
   "metadata": {
    "_kg_hide-output": true,
    "colab": {
     "base_uri": "https://localhost:8080/"
    },
    "execution": {
     "iopub.execute_input": "2020-12-20T18:41:40.459735Z",
     "iopub.status.busy": "2020-12-20T18:41:40.459085Z",
     "iopub.status.idle": "2020-12-20T18:41:47.122364Z",
     "shell.execute_reply": "2020-12-20T18:41:47.121748Z"
    },
    "executionInfo": {
     "elapsed": 5383,
     "status": "ok",
     "timestamp": 1668806038022,
     "user": {
      "displayName": "Grantas Bičiulaitis",
      "userId": "11886115887689804485"
     },
     "user_tz": -120
    },
    "id": "5XKldSuBMgnV",
    "outputId": "82a73a5f-7cfa-48b3-d20b-3f0a811e5e44",
    "papermill": {
     "duration": 6.730589,
     "end_time": "2020-12-20T18:41:47.122482",
     "exception": false,
     "start_time": "2020-12-20T18:41:40.391893",
     "status": "completed"
    },
    "tags": []
   },
   "outputs": [
    {
     "name": "stdout",
     "output_type": "stream",
     "text": [
      "Model: \"sequential_2\"\n",
      "_________________________________________________________________\n",
      "Layer (type)                 Output Shape              Param #   \n",
      "=================================================================\n",
      "efficientnetb0 (Functional)  (None, 10, 10, 1280)      4049571   \n",
      "_________________________________________________________________\n",
      "global_average_pooling2d_2 ( (None, 1280)              0         \n",
      "_________________________________________________________________\n",
      "dense_2 (Dense)              (None, 5)                 6405      \n",
      "=================================================================\n",
      "Total params: 4,055,976\n",
      "Trainable params: 4,013,953\n",
      "Non-trainable params: 42,023\n",
      "_________________________________________________________________\n"
     ]
    }
   ],
   "source": [
    "model = create_model()\n",
    "model.summary()"
   ]
  },
  {
   "cell_type": "code",
   "execution_count": 40,
   "metadata": {
    "_kg_hide-output": true,
    "colab": {
     "base_uri": "https://localhost:8080/"
    },
    "execution": {
     "iopub.execute_input": "2020-12-20T18:41:47.262810Z",
     "iopub.status.busy": "2020-12-20T18:41:47.262164Z",
     "iopub.status.idle": "2020-12-20T20:40:39.502312Z",
     "shell.execute_reply": "2020-12-20T20:40:39.501785Z"
    },
    "executionInfo": {
     "elapsed": 9404091,
     "status": "ok",
     "timestamp": 1668815987685,
     "user": {
      "displayName": "Grantas Bičiulaitis",
      "userId": "11886115887689804485"
     },
     "user_tz": -120
    },
    "id": "gWuABW1xMgnV",
    "outputId": "12c2c648-bb27-4814-db89-767b202446ab",
    "papermill": {
     "duration": 7132.315816,
     "end_time": "2020-12-20T20:40:39.502422",
     "exception": false,
     "start_time": "2020-12-20T18:41:47.186606",
     "status": "completed"
    },
    "tags": []
   },
   "outputs": [
    {
     "name": "stdout",
     "output_type": "stream",
     "text": [
      "Epoch 1/10\n",
      "1069/1069 [==============================] - 458s 421ms/step - loss: 0.6522 - acc: 0.7649 - val_loss: 0.5810 - val_acc: 0.7967\n",
      "\n",
      "Epoch 00001: val_loss improved from inf to 0.58097, saving model to ./Input30010\\model08.h5\n",
      "Epoch 2/10\n",
      "1069/1069 [==============================] - 391s 365ms/step - loss: 0.5250 - acc: 0.8173 - val_loss: 0.5309 - val_acc: 0.8252\n",
      "\n",
      "Epoch 00002: val_loss improved from 0.58097 to 0.53093, saving model to ./Input30010\\model08.h5\n",
      "Epoch 3/10\n",
      "1069/1069 [==============================] - 390s 364ms/step - loss: 0.4842 - acc: 0.8333 - val_loss: 0.5579 - val_acc: 0.8060\n",
      "\n",
      "Epoch 00003: val_loss did not improve from 0.53093\n",
      "Epoch 4/10\n",
      "1069/1069 [==============================] - 399s 373ms/step - loss: 0.4688 - acc: 0.8374 - val_loss: 0.4493 - val_acc: 0.8516\n",
      "\n",
      "Epoch 00004: val_loss improved from 0.53093 to 0.44934, saving model to ./Input30010\\model08.h5\n",
      "Epoch 5/10\n",
      "1069/1069 [==============================] - 395s 369ms/step - loss: 0.4541 - acc: 0.8424 - val_loss: 0.4824 - val_acc: 0.8373\n",
      "\n",
      "Epoch 00005: val_loss did not improve from 0.44934\n",
      "Epoch 6/10\n",
      "1069/1069 [==============================] - 401s 374ms/step - loss: 0.4311 - acc: 0.8520 - val_loss: 0.4395 - val_acc: 0.8525\n",
      "\n",
      "Epoch 00006: val_loss improved from 0.44934 to 0.43954, saving model to ./Input30010\\model08.h5\n",
      "Epoch 7/10\n",
      "1069/1069 [==============================] - 408s 381ms/step - loss: 0.4238 - acc: 0.8535 - val_loss: 0.4929 - val_acc: 0.8385\n",
      "\n",
      "Epoch 00007: val_loss did not improve from 0.43954\n",
      "Epoch 8/10\n",
      "1069/1069 [==============================] - 394s 368ms/step - loss: 0.4164 - acc: 0.8547 - val_loss: 0.5230 - val_acc: 0.8133\n",
      "\n",
      "Epoch 00008: val_loss did not improve from 0.43954\n",
      "\n",
      "Epoch 00008: ReduceLROnPlateau reducing learning rate to 0.0003000000142492354.\n",
      "Epoch 9/10\n",
      "1069/1069 [==============================] - 393s 367ms/step - loss: 0.3458 - acc: 0.8823 - val_loss: 0.4098 - val_acc: 0.8621\n",
      "\n",
      "Epoch 00009: val_loss improved from 0.43954 to 0.40977, saving model to ./Input30010\\model08.h5\n",
      "Epoch 10/10\n",
      "1069/1069 [==============================] - 395s 369ms/step - loss: 0.3278 - acc: 0.8880 - val_loss: 0.4094 - val_acc: 0.8593\n",
      "\n",
      "Epoch 00010: val_loss improved from 0.40977 to 0.40939, saving model to ./Input30010\\model08.h5\n"
     ]
    }
   ],
   "source": [
    "model_save = ModelCheckpoint('./EfficientNetB0_08.h5', \n",
    "                             save_best_only = True, \n",
    "                             save_weights_only = True,\n",
    "                             monitor = 'val_loss', \n",
    "                             mode = 'min', verbose = 1)\n",
    "reduce_lr = ReduceLROnPlateau(monitor = 'val_loss', factor = 0.3, \n",
    "                              patience = 2, min_delta = 0.001, \n",
    "                              mode = 'min', verbose = 1)\n",
    "\n",
    "\n",
    "history = model.fit_generator(\n",
    "    train_generator,\n",
    "    steps_per_epoch = STEPS_PER_EPOCH,\n",
    "    epochs = EPOCHS,\n",
    "    validation_data = validation_generator,\n",
    "    validation_steps = VALIDATION_STEPS,\n",
    "    callbacks = [model_save, reduce_lr]\n",
    ")"
   ]
  },
  {
   "cell_type": "code",
   "execution_count": 41,
   "metadata": {
    "_kg_hide-input": true,
    "colab": {
     "base_uri": "https://localhost:8080/",
     "height": 356
    },
    "execution": {
     "iopub.execute_input": "2020-12-20T20:40:52.643217Z",
     "iopub.status.busy": "2020-12-20T20:40:52.641990Z",
     "iopub.status.idle": "2020-12-20T20:40:52.952431Z",
     "shell.execute_reply": "2020-12-20T20:40:52.952915Z"
    },
    "executionInfo": {
     "elapsed": 536,
     "status": "ok",
     "timestamp": 1668815988210,
     "user": {
      "displayName": "Grantas Bičiulaitis",
      "userId": "11886115887689804485"
     },
     "user_tz": -120
    },
    "id": "IrTQNjs3MgnV",
    "outputId": "9127f676-0279-448f-d0ef-2aded0e4afeb",
    "papermill": {
     "duration": 6.468885,
     "end_time": "2020-12-20T20:40:52.953047",
     "exception": false,
     "start_time": "2020-12-20T20:40:46.484162",
     "status": "completed"
    },
    "tags": []
   },
   "outputs": [
    {
     "data": {
      "image/png": "[encoded data removed]",
      "text/plain": [
       "<Figure size 1080x360 with 2 Axes>"
      ]
     },
     "metadata": {
      "needs_background": "light"
     },
     "output_type": "display_data"
    }
   ],
   "source": [
    "acc = history.history['acc']\n",
    "val_acc = history.history['val_acc']\n",
    "loss = history.history['loss']\n",
    "val_loss = history.history['val_loss']\n",
    "\n",
    "epochs = range(1, len(acc) + 1)\n",
    "\n",
    "fig, (ax1, ax2) = plt.subplots(1, 2, figsize=(15, 5))\n",
    "sns.set_style(\"white\")\n",
    "plt.suptitle('Train history', size = 15)\n",
    "\n",
    "ax1.plot(epochs, acc, \"bo\", label = \"Training acc\")\n",
    "ax1.plot(epochs, val_acc, \"b\", label = \"Validation acc\")\n",
    "ax1.set_title(\"Training and validation acc\")\n",
    "ax1.legend()\n",
    "\n",
    "ax2.plot(epochs, loss, \"bo\", label = \"Training loss\", color = 'red')\n",
    "ax2.plot(epochs, val_loss, \"b\", label = \"Validation loss\", color = 'red')\n",
    "ax2.set_title(\"Training and validation loss\")\n",
    "ax2.legend()\n",
    "\n",
    "plt.show()"
   ]
  },
  {
   "cell_type": "code",
   "execution_count": 34,
   "metadata": {
    "execution": {
     "iopub.execute_input": "2020-12-20T20:41:05.646276Z",
     "iopub.status.busy": "2020-12-20T20:41:05.645259Z",
     "iopub.status.idle": "2020-12-20T20:41:06.462206Z",
     "shell.execute_reply": "2020-12-20T20:41:06.461193Z"
    },
    "id": "K-GizYayMgnW",
    "papermill": {
     "duration": 7.058841,
     "end_time": "2020-12-20T20:41:06.462338",
     "exception": false,
     "start_time": "2020-12-20T20:40:59.403497",
     "status": "completed"
    },
    "tags": []
   },
   "outputs": [],
   "source": [
    "model.save('./EfficientNetB0_08.h5')"
   ]
  },
  {
   "cell_type": "code",
   "execution_count": 42,
   "metadata": {},
   "outputs": [],
   "source": [
    "# with open('./EfficientNetB0_08_history', 'wb') as file_pi:\n",
    "#     pickle.dump(history.history, file_pi)"
   ]
  },
  {
   "cell_type": "code",
   "execution_count": null,
   "metadata": {
    "id": "AK_PnzsqWopL"
   },
   "outputs": [],
   "source": [
    "model = models.load_model('./EfficientNetB0_08.h5')"
   ]
  },
  {
   "cell_type": "code",
   "execution_count": 19,
   "metadata": {
    "colab": {
     "base_uri": "https://localhost:8080/",
     "height": 81
    },
    "execution": {
     "iopub.execute_input": "2020-12-20T20:41:33.085594Z",
     "iopub.status.busy": "2020-12-20T20:41:33.084993Z",
     "iopub.status.idle": "2020-12-20T20:41:33.099474Z",
     "shell.execute_reply": "2020-12-20T20:41:33.098918Z"
    },
    "executionInfo": {
     "elapsed": 597,
     "status": "ok",
     "timestamp": 1669056310324,
     "user": {
      "displayName": "Grantas Bičiulaitis",
      "userId": "11886115887689804485"
     },
     "user_tz": -120
    },
    "id": "24dANSAzMgnW",
    "outputId": "3d644658-19b4-447d-fab5-458e38363aa9",
    "papermill": {
     "duration": 6.520527,
     "end_time": "2020-12-20T20:41:33.099594",
     "exception": false,
     "start_time": "2020-12-20T20:41:26.579067",
     "status": "completed"
    },
    "tags": []
   },
   "outputs": [
    {
     "data": {
      "text/html": [
       "<div>\n",
       "<style scoped>\n",
       "    .dataframe tbody tr th:only-of-type {\n",
       "        vertical-align: middle;\n",
       "    }\n",
       "\n",
       "    .dataframe tbody tr th {\n",
       "        vertical-align: top;\n",
       "    }\n",
       "\n",
       "    .dataframe thead th {\n",
       "        text-align: right;\n",
       "    }\n",
       "</style>\n",
       "<table border=\"1\" class=\"dataframe\">\n",
       "  <thead>\n",
       "    <tr style=\"text-align: right;\">\n",
       "      <th></th>\n",
       "      <th>image_id</th>\n",
       "      <th>label</th>\n",
       "    </tr>\n",
       "  </thead>\n",
       "  <tbody>\n",
       "    <tr>\n",
       "      <th>0</th>\n",
       "      <td>2216849948.jpg</td>\n",
       "      <td>4</td>\n",
       "    </tr>\n",
       "  </tbody>\n",
       "</table>\n",
       "</div>"
      ],
      "text/plain": [
       "         image_id  label\n",
       "0  2216849948.jpg      4"
      ]
     },
     "execution_count": 19,
     "metadata": {},
     "output_type": "execute_result"
    }
   ],
   "source": [
    "ss = pd.read_csv(os.path.join(WORK_DIR, \"sample_submission.csv\"))\n",
    "ss"
   ]
  },
  {
   "cell_type": "code",
   "execution_count": 20,
   "metadata": {
    "colab": {
     "base_uri": "https://localhost:8080/",
     "height": 98
    },
    "execution": {
     "iopub.execute_input": "2020-12-20T20:41:45.681268Z",
     "iopub.status.busy": "2020-12-20T20:41:45.680586Z",
     "iopub.status.idle": "2020-12-20T20:41:47.423568Z",
     "shell.execute_reply": "2020-12-20T20:41:47.424627Z"
    },
    "executionInfo": {
     "elapsed": 11883,
     "status": "ok",
     "timestamp": 1669056355196,
     "user": {
      "displayName": "Grantas Bičiulaitis",
      "userId": "11886115887689804485"
     },
     "user_tz": -120
    },
    "id": "oHkZixVDMgnW",
    "outputId": "b00d7dc1-2a9b-421c-ccab-8b4a06b55aa6",
    "papermill": {
     "duration": 7.906133,
     "end_time": "2020-12-20T20:41:47.424872",
     "exception": false,
     "start_time": "2020-12-20T20:41:39.518739",
     "status": "completed"
    },
    "tags": []
   },
   "outputs": [
    {
     "data": {
      "text/html": [
       "<div>\n",
       "<style scoped>\n",
       "    .dataframe tbody tr th:only-of-type {\n",
       "        vertical-align: middle;\n",
       "    }\n",
       "\n",
       "    .dataframe tbody tr th {\n",
       "        vertical-align: top;\n",
       "    }\n",
       "\n",
       "    .dataframe thead th {\n",
       "        text-align: right;\n",
       "    }\n",
       "</style>\n",
       "<table border=\"1\" class=\"dataframe\">\n",
       "  <thead>\n",
       "    <tr style=\"text-align: right;\">\n",
       "      <th></th>\n",
       "      <th>image_id</th>\n",
       "      <th>label</th>\n",
       "    </tr>\n",
       "  </thead>\n",
       "  <tbody>\n",
       "    <tr>\n",
       "      <th>0</th>\n",
       "      <td>2216849948.jpg</td>\n",
       "      <td>4</td>\n",
       "    </tr>\n",
       "  </tbody>\n",
       "</table>\n",
       "</div>"
      ],
      "text/plain": [
       "         image_id  label\n",
       "0  2216849948.jpg      4"
      ]
     },
     "execution_count": 20,
     "metadata": {},
     "output_type": "execute_result"
    }
   ],
   "source": [
    "preds = []\n",
    "\n",
    "for image_id in ss.image_id:\n",
    "    image = Image.open(os.path.join(WORK_DIR,  \"test_images\", image_id))\n",
    "    image = image.resize((TARGET_SIZE, TARGET_SIZE))\n",
    "    image = np.expand_dims(image, axis = 0)\n",
    "    preds.append(np.argmax(model.predict(image)))\n",
    "\n",
    "ss['label'] = preds\n",
    "ss"
   ]
  }
 ],
 "metadata": {
  "colab": {
   "provenance": []
  },
  "gpuClass": "premium",
  "kernelspec": {
   "display_name": "Python 3 (ipykernel)",
   "language": "python",
   "name": "python3"
  },
  "language_info": {
   "codemirror_mode": {
    "name": "ipython",
    "version": 3
   },
   "file_extension": ".py",
   "mimetype": "text/x-python",
   "name": "python",
   "nbconvert_exporter": "python",
   "pygments_lexer": "ipython3",
   "version": "3.9.12"
  },
  "papermill": {
   "duration": 7292.698837,
   "end_time": "2020-12-20T20:42:35.577348",
   "environment_variables": {},
   "exception": null,
   "input_path": "__notebook__.ipynb",
   "output_path": "__notebook__.ipynb",
   "parameters": {},
   "start_time": "2020-12-20T18:41:02.878511",
   "version": "2.1.0"
  }
 },
 "nbformat": 4,
 "nbformat_minor": 1
}
