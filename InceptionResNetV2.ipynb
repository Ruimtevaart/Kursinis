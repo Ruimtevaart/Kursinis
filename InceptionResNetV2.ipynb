{
 "cells": [
  {
   "cell_type": "code",
   "execution_count": 1,
   "metadata": {
    "_cell_guid": "b1076dfc-b9ad-4769-8c92-a6c4dae69d19",
    "_uuid": "8f2839f25d086af736a60e9eeb907d3b93b6e0e5"
   },
   "outputs": [],
   "source": [
    "import numpy as np\n",
    "import pandas as pd\n",
    "\n",
    "import os\n",
    "# for dirname, _, filenames in os.walk('C:/Universitetas/Kursinis/Dataset/'):\n",
    "#     for filename in filenames:\n",
    "#         print(os.path.join(dirname, filename))"
   ]
  },
  {
   "cell_type": "code",
   "execution_count": 2,
   "metadata": {},
   "outputs": [],
   "source": [
    "import glob\n",
    "import shutil\n",
    "import cv2\n",
    "import os\n",
    "from keras_preprocessing import image\n",
    "from keras_preprocessing.image import ImageDataGenerator\n",
    "import matplotlib.pyplot as plt\n",
    "from tensorflow.keras.models import Sequential\n",
    "from tensorflow.keras.callbacks import Callback, ReduceLROnPlateau, ModelCheckpoint, TensorBoard\n",
    "from tensorflow.keras.layers import Conv2D, MaxPooling2D, BatchNormalization, Dropout, Activation, GlobalAveragePooling2D, Dense\n",
    "from tensorflow.keras.losses import CategoricalCrossentropy\n",
    "from tensorflow.keras.optimizers import Adam\n",
    "from tensorflow.keras.metrics import Accuracy\n",
    "from tensorflow.keras.applications import InceptionResNetV2\n",
    "from tensorflow.keras import Input\n",
    "\n",
    "%matplotlib inline\n",
    "plt.rcParams[\"figure.figsize\"] = (17, 6) # (w, h)"
   ]
  },
  {
   "cell_type": "code",
   "execution_count": 3,
   "metadata": {},
   "outputs": [],
   "source": [
    "TRAINING_DIR = \"C:/Universitetas/Kursinis/Dataset/train_images/\"\n",
    "TRAINING_CSV = \"C:/Universitetas/Kursinis/Dataset/train.csv\"\n",
    "JSON_LABELS = \"C:/Universitetas/Kursinis/Dataset/label_num_to_disease_map.json\"\n",
    "# PRETRAINED_MODEL = \"C:/Universitetas/Kursinis/resnet50/resnet50_weights_tf_dim_ordering_tf_kernels_notop.h5\""
   ]
  },
  {
   "cell_type": "code",
   "execution_count": 4,
   "metadata": {},
   "outputs": [],
   "source": [
    "train_df = pd.read_csv(TRAINING_CSV)\n",
    "train_df[\"label\"] = train_df[\"label\"].astype(\"string\")"
   ]
  },
  {
   "cell_type": "code",
   "execution_count": 5,
   "metadata": {},
   "outputs": [
    {
     "data": {
      "text/html": [
       "<div>\n",
       "<style scoped>\n",
       "    .dataframe tbody tr th:only-of-type {\n",
       "        vertical-align: middle;\n",
       "    }\n",
       "\n",
       "    .dataframe tbody tr th {\n",
       "        vertical-align: top;\n",
       "    }\n",
       "\n",
       "    .dataframe thead th {\n",
       "        text-align: right;\n",
       "    }\n",
       "</style>\n",
       "<table border=\"1\" class=\"dataframe\">\n",
       "  <thead>\n",
       "    <tr style=\"text-align: right;\">\n",
       "      <th></th>\n",
       "      <th>image_id</th>\n",
       "      <th>label</th>\n",
       "    </tr>\n",
       "  </thead>\n",
       "  <tbody>\n",
       "    <tr>\n",
       "      <th>0</th>\n",
       "      <td>1000015157.jpg</td>\n",
       "      <td>0</td>\n",
       "    </tr>\n",
       "    <tr>\n",
       "      <th>1</th>\n",
       "      <td>1000201771.jpg</td>\n",
       "      <td>3</td>\n",
       "    </tr>\n",
       "    <tr>\n",
       "      <th>2</th>\n",
       "      <td>100042118.jpg</td>\n",
       "      <td>1</td>\n",
       "    </tr>\n",
       "    <tr>\n",
       "      <th>3</th>\n",
       "      <td>1000723321.jpg</td>\n",
       "      <td>1</td>\n",
       "    </tr>\n",
       "    <tr>\n",
       "      <th>4</th>\n",
       "      <td>1000812911.jpg</td>\n",
       "      <td>3</td>\n",
       "    </tr>\n",
       "  </tbody>\n",
       "</table>\n",
       "</div>"
      ],
      "text/plain": [
       "         image_id label\n",
       "0  1000015157.jpg     0\n",
       "1  1000201771.jpg     3\n",
       "2   100042118.jpg     1\n",
       "3  1000723321.jpg     1\n",
       "4  1000812911.jpg     3"
      ]
     },
     "execution_count": 5,
     "metadata": {},
     "output_type": "execute_result"
    }
   ],
   "source": [
    "train_df.head()"
   ]
  },
  {
   "cell_type": "code",
   "execution_count": 6,
   "metadata": {},
   "outputs": [
    {
     "name": "stdout",
     "output_type": "stream",
     "text": [
      "\n",
      "Iš viso paveiksliukų: 21397\n",
      "Paveiksliukai mokymui: 17117\n",
      "Paveiksliukai validavimui: 4280\n"
     ]
    }
   ],
   "source": [
    "total_images_count = len(train_df.index)\n",
    "total_train_img_count = int(len(train_df.index) * 0.8)\n",
    "total_val_img_count = total_images_count - total_train_img_count\n",
    "print(\"\\nIš viso paveiksliukų: {}\".format(total_images_count))\n",
    "print(\"Paveiksliukai mokymui: {}\".format(total_train_img_count))\n",
    "print(\"Paveiksliukai validavimui: {}\".format(total_val_img_count))\n"
   ]
  },
  {
   "cell_type": "code",
   "execution_count": 7,
   "metadata": {},
   "outputs": [
    {
     "data": {
      "text/plain": [
       "['Cassava Bacterial Blight (CBB)',\n",
       " 'Cassava Brown Streak Disease (CBSD)',\n",
       " 'Cassava Green Mottle (CGM)',\n",
       " 'Cassava Mosaic Disease (CMD)',\n",
       " 'Healthy']"
      ]
     },
     "execution_count": 7,
     "metadata": {},
     "output_type": "execute_result"
    }
   ],
   "source": [
    "label_df = pd.read_json(JSON_LABELS, orient = 'index')\n",
    "label_df = label_df.values.flatten().tolist()\n",
    "label_df"
   ]
  },
  {
   "cell_type": "code",
   "execution_count": 8,
   "metadata": {},
   "outputs": [
    {
     "data": {
      "text/plain": [
       "2577"
      ]
     },
     "execution_count": 8,
     "metadata": {},
     "output_type": "execute_result"
    }
   ],
   "source": [
    "train_label_0 = train_df[train_df[\"label\"]== \"0\"]\n",
    "train_label_1 = train_df[train_df[\"label\"]== \"1\"]\n",
    "train_label_2 = train_df[train_df[\"label\"]== \"2\"]\n",
    "train_label_3 = train_df[train_df[\"label\"]== \"3\"]\n",
    "train_label_4 = train_df[train_df[\"label\"]== \"4\"]\n",
    "len(train_label_4)"
   ]
  },
  {
   "cell_type": "code",
   "execution_count": 9,
   "metadata": {},
   "outputs": [
    {
     "data": {
      "image/png": "[encoded data removed]",
      "text/plain": [
       "<Figure size 1224x432 with 1 Axes>"
      ]
     },
     "metadata": {
      "needs_background": "light"
     },
     "output_type": "display_data"
    }
   ],
   "source": [
    "len_by_labels = [\n",
    "    len(train_label_0),\n",
    "    len(train_label_1),\n",
    "    len(train_label_2),\n",
    "    len(train_label_3),\n",
    "    len(train_label_4),\n",
    "]\n",
    "\n",
    "plt.bar(label_df, len_by_labels)\n",
    "\n",
    "plt.xlabel('Labels')  \n",
    "plt.ylabel('Image Count')\n",
    "\n",
    "plt.show()  "
   ]
  },
  {
   "cell_type": "code",
   "execution_count": 10,
   "metadata": {},
   "outputs": [],
   "source": [
    "training_datagen = ImageDataGenerator(\n",
    "    rescale = 1/255,\n",
    "    rotation_range = 100,\n",
    "    width_shift_range = 0.2,\n",
    "    height_shift_range = 0.2,\n",
    "    shear_range = 0.2,\n",
    "    zoom_range = 0.3,\n",
    "    brightness_range = [0.7, 1.4],\n",
    "    horizontal_flip = True,\n",
    "    vertical_flip=True,\n",
    "    fill_mode = \"nearest\",\n",
    "    validation_split=0.2\n",
    ")\n",
    "\n",
    "validation_datagen = ImageDataGenerator(\n",
    "    rescale = 1/255,\n",
    "    validation_split=0.2\n",
    ")"
   ]
  },
  {
   "cell_type": "code",
   "execution_count": 11,
   "metadata": {},
   "outputs": [
    {
     "name": "stdout",
     "output_type": "stream",
     "text": [
      "\n",
      "Mokymo rinkinys\n",
      "Found 17118 validated image filenames belonging to 5 classes.\n",
      "\n",
      "Validacijos rinkinys\n",
      "Found 4279 validated image filenames belonging to 5 classes.\n"
     ]
    }
   ],
   "source": [
    "BATCH_SIZE = 24\n",
    "IMG_WIDTH = 300\n",
    "IMG_HEIGHT = 300\n",
    "CHANNEL = 3\n",
    "\n",
    "print(\"\\nMokymo rinkinys\")\n",
    "train_ds = training_datagen.flow_from_dataframe(\n",
    "    train_df,\n",
    "    TRAINING_DIR,\n",
    "    target_size = (IMG_WIDTH, IMG_HEIGHT),\n",
    "    class_mode = \"categorical\",\n",
    "    batch_size = BATCH_SIZE,\n",
    "    x_col = \"image_id\",\n",
    "    y_col = \"label\",\n",
    "    shuffle = True,\n",
    "    subset = \"training\"\n",
    "\n",
    ")\n",
    "print(\"\\nValidacijos rinkinys\")\n",
    "validation_ds = validation_datagen.flow_from_dataframe(\n",
    "    train_df,\n",
    "    TRAINING_DIR,\n",
    "    target_size = (IMG_WIDTH, IMG_HEIGHT),\n",
    "    class_mode = \"categorical\",\n",
    "    batch_size = BATCH_SIZE,\n",
    "    x_col = \"image_id\",\n",
    "    y_col = \"label\",\n",
    "    shuffle = False,\n",
    "    subset = \"validation\"\n",
    ")\n",
    "# print(\"\\nClass Indices:\")\n",
    "# print(train_ds.class_indices)"
   ]
  },
  {
   "cell_type": "code",
   "execution_count": 12,
   "metadata": {},
   "outputs": [],
   "source": [
    "reduce_lr = ReduceLROnPlateau(\n",
    "                    monitor='val_loss', \n",
    "                    factor=0.5,\n",
    "                    patience= 2, \n",
    "                    verbose = 1,\n",
    "                    cooldown = 1,\n",
    "                    min_lr=0.0001)"
   ]
  },
  {
   "cell_type": "code",
   "execution_count": 13,
   "metadata": {},
   "outputs": [],
   "source": [
    "loss_func = CategoricalCrossentropy()\n",
    "optimizer = Adam(learning_rate=0.001)"
   ]
  },
  {
   "cell_type": "code",
   "execution_count": 14,
   "metadata": {},
   "outputs": [],
   "source": [
    "model_checkpoint_path=\"./InceptionResNetV208.h5\"\n",
    "checkpoint = ModelCheckpoint(model_checkpoint_path, monitor='val_accuracy', verbose=1, save_best_only=True,mode='max')"
   ]
  },
  {
   "cell_type": "code",
   "execution_count": 15,
   "metadata": {},
   "outputs": [],
   "source": [
    "new_input = Input(shape=(IMG_WIDTH, IMG_HEIGHT, CHANNEL))"
   ]
  },
  {
   "cell_type": "code",
   "execution_count": 16,
   "metadata": {},
   "outputs": [],
   "source": [
    "base_model = InceptionResNetV2(\n",
    "    include_top=False,\n",
    "    weights=\"imagenet\",\n",
    "    input_tensor=new_input,\n",
    ")\n",
    "base_model.trainable = True"
   ]
  },
  {
   "cell_type": "code",
   "execution_count": 17,
   "metadata": {},
   "outputs": [],
   "source": [
    "def create_model():\n",
    "\n",
    "    model = Sequential()\n",
    "    model.add(base_model)\n",
    "    model.add(GlobalAveragePooling2D())\n",
    "    model.add(Dense(5, activation = \"softmax\"))\n",
    "\n",
    "    return model"
   ]
  },
  {
   "cell_type": "code",
   "execution_count": 18,
   "metadata": {},
   "outputs": [
    {
     "name": "stdout",
     "output_type": "stream",
     "text": [
      "Model: \"sequential\"\n",
      "_________________________________________________________________\n",
      "Layer (type)                 Output Shape              Param #   \n",
      "=================================================================\n",
      "inception_resnet_v2 (Functio (None, 8, 8, 1536)        54336736  \n",
      "_________________________________________________________________\n",
      "global_average_pooling2d (Gl (None, 1536)              0         \n",
      "_________________________________________________________________\n",
      "dense (Dense)                (None, 5)                 7685      \n",
      "=================================================================\n",
      "Total params: 54,344,421\n",
      "Trainable params: 54,283,877\n",
      "Non-trainable params: 60,544\n",
      "_________________________________________________________________\n"
     ]
    }
   ],
   "source": [
    "model = create_model()\n",
    "\n",
    "model.compile(\n",
    "    optimizer=optimizer,\n",
    "    loss = loss_func,\n",
    "    metrics = [\"accuracy\"]\n",
    ")\n",
    "\n",
    "model.summary()"
   ]
  },
  {
   "cell_type": "code",
   "execution_count": 19,
   "metadata": {},
   "outputs": [],
   "source": [
    "num_epochs = 10\n",
    "steps_per_epoch = total_train_img_count // BATCH_SIZE"
   ]
  },
  {
   "cell_type": "code",
   "execution_count": 20,
   "metadata": {},
   "outputs": [
    {
     "name": "stdout",
     "output_type": "stream",
     "text": [
      "Epoch 1/10\n",
      "713/713 [==============================] - 478s 639ms/step - loss: 0.7298 - accuracy: 0.7399 - val_loss: 0.6372 - val_accuracy: 0.7775\n",
      "\n",
      "Epoch 00001: val_accuracy improved from -inf to 0.77752, saving model to .\\InceptionResNetV208.h5\n",
      "Epoch 2/10\n",
      "713/713 [==============================] - 455s 637ms/step - loss: 0.6012 - accuracy: 0.7869 - val_loss: 0.6163 - val_accuracy: 0.7859\n",
      "\n",
      "Epoch 00002: val_accuracy improved from 0.77752 to 0.78593, saving model to .\\InceptionResNetV208.h5\n",
      "Epoch 3/10\n",
      "713/713 [==============================] - 449s 629ms/step - loss: 0.5484 - accuracy: 0.8069 - val_loss: 0.4955 - val_accuracy: 0.8292\n",
      "\n",
      "Epoch 00003: val_accuracy improved from 0.78593 to 0.82917, saving model to .\\InceptionResNetV208.h5\n",
      "Epoch 4/10\n",
      "713/713 [==============================] - 453s 635ms/step - loss: 0.5238 - accuracy: 0.8195 - val_loss: 0.5431 - val_accuracy: 0.8161\n",
      "\n",
      "Epoch 00004: val_accuracy did not improve from 0.82917\n",
      "Epoch 5/10\n",
      "713/713 [==============================] - 455s 638ms/step - loss: 0.5044 - accuracy: 0.8258 - val_loss: 0.5597 - val_accuracy: 0.8053\n",
      "\n",
      "Epoch 00005: ReduceLROnPlateau reducing learning rate to 0.0005000000237487257.\n",
      "\n",
      "Epoch 00005: val_accuracy did not improve from 0.82917\n",
      "Epoch 6/10\n",
      "713/713 [==============================] - 453s 635ms/step - loss: 0.4520 - accuracy: 0.8437 - val_loss: 0.4836 - val_accuracy: 0.8472\n",
      "\n",
      "Epoch 00006: val_accuracy improved from 0.82917 to 0.84716, saving model to .\\InceptionResNetV208.h5\n",
      "Epoch 7/10\n",
      "713/713 [==============================] - 454s 636ms/step - loss: 0.4291 - accuracy: 0.8487 - val_loss: 0.4798 - val_accuracy: 0.8348\n",
      "\n",
      "Epoch 00007: val_accuracy did not improve from 0.84716\n",
      "Epoch 8/10\n",
      "713/713 [==============================] - 458s 641ms/step - loss: 0.4236 - accuracy: 0.8533 - val_loss: 0.4576 - val_accuracy: 0.8516\n",
      "\n",
      "Epoch 00008: val_accuracy improved from 0.84716 to 0.85160, saving model to .\\InceptionResNetV208.h5\n",
      "Epoch 9/10\n",
      "713/713 [==============================] - 452s 633ms/step - loss: 0.4206 - accuracy: 0.8511 - val_loss: 0.4757 - val_accuracy: 0.8488\n",
      "\n",
      "Epoch 00009: val_accuracy did not improve from 0.85160\n",
      "Epoch 10/10\n",
      "713/713 [==============================] - 452s 634ms/step - loss: 0.4112 - accuracy: 0.8564 - val_loss: 0.5116 - val_accuracy: 0.8135\n",
      "\n",
      "Epoch 00010: ReduceLROnPlateau reducing learning rate to 0.0002500000118743628.\n",
      "\n",
      "Epoch 00010: val_accuracy did not improve from 0.85160\n"
     ]
    }
   ],
   "source": [
    "history = model.fit(\n",
    "    train_ds,\n",
    "    epochs = num_epochs,\n",
    "    validation_data = validation_ds,\n",
    "    verbose = 1,\n",
    "    steps_per_epoch = steps_per_epoch,\n",
    "    callbacks = [\n",
    "        reduce_lr,\n",
    "        checkpoint\n",
    "                ]\n",
    ")"
   ]
  },
  {
   "cell_type": "code",
   "execution_count": 24,
   "metadata": {},
   "outputs": [],
   "source": [
    "# model.save(\"./InceptionResNetV208.h5\")\n"
   ]
  },
  {
   "cell_type": "code",
   "execution_count": 21,
   "metadata": {},
   "outputs": [],
   "source": [
    "import pickle"
   ]
  },
  {
   "cell_type": "code",
   "execution_count": 22,
   "metadata": {},
   "outputs": [],
   "source": [
    "with open('./InceptionResNetV208history', 'wb') as file:\n",
    "    pickle.dump(history.history, file)"
   ]
  },
  {
   "cell_type": "code",
   "execution_count": 23,
   "metadata": {},
   "outputs": [
    {
     "data": {
      "image/png": "[encoded data removed]",
      "text/plain": [
       "<Figure size 1224x432 with 1 Axes>"
      ]
     },
     "metadata": {
      "needs_background": "light"
     },
     "output_type": "display_data"
    },
    {
     "data": {
      "image/png": "[encoded data removed]",
      "text/plain": [
       "<Figure size 1224x432 with 1 Axes>"
      ]
     },
     "metadata": {
      "needs_background": "light"
     },
     "output_type": "display_data"
    },
    {
     "data": {
      "text/plain": [
       "<Figure size 1224x432 with 0 Axes>"
      ]
     },
     "metadata": {},
     "output_type": "display_data"
    }
   ],
   "source": [
    "acc = history.history[\"accuracy\"]\n",
    "val_acc = history.history[\"val_accuracy\"]\n",
    "loss = history.history[\"loss\"]\n",
    "val_loss = history.history[\"val_loss\"]\n",
    "\n",
    "epochs = range(len(acc))\n",
    "\n",
    "plt.plot(epochs, acc, \"r\", label=\"Mokymo tikslumas\")\n",
    "plt.plot(epochs, val_acc, \"b\", label=\"Validacijos tikslumas\")\n",
    "plt.title(\"Mokymo ir validavimo tikslumas\")\n",
    "plt.xlabel(\"Epizodai\")\n",
    "plt.ylabel(\"Tikslumas\")\n",
    "plt.legend()\n",
    "plt.figure()\n",
    "\n",
    "plt.plot(epochs, loss, \"r\", label=\"Mokymo nuostoliai\")\n",
    "plt.plot(epochs, val_loss, \"b\", label=\"Validacijos nuostoliai\")\n",
    "plt.title(\"Mokymo ir validavimo nuostoliai\")\n",
    "plt.xlabel(\"Epizodai\")\n",
    "plt.ylabel(\"Nuostoliai\")\n",
    "plt.legend()\n",
    "plt.figure()\n",
    "\n",
    "plt.show()"
   ]
  },
  {
   "cell_type": "code",
   "execution_count": 25,
   "metadata": {},
   "outputs": [],
   "source": [
    "import tensorflow as tf\n",
    "\n",
    "model = tf.keras.models.load_model(\"./InceptionResNetV208.h5\")\n",
    "predicted = []\n",
    "sample_submission = pd.read_csv('C:/Universitetas/Kursinis/Dataset/sample_submission.csv')\n",
    "\n",
    "for image in sample_submission.image_id:\n",
    "    img = tf.keras.preprocessing.image.load_img('C:/Universitetas/Kursinis/Dataset/test_images/' + image)\n",
    "    img = tf.keras.preprocessing.image.img_to_array(img)\n",
    "    img = tf.keras.preprocessing.image.smart_resize(img, (IMG_WIDTH, IMG_HEIGHT))\n",
    "    img = tf.reshape(img, (-1, IMG_WIDTH, IMG_HEIGHT, CHANNEL))\n",
    "    prediction = model.predict(img/255)  \n",
    "    predicted.append(np.argmax(prediction))\n",
    "\n",
    "submission = pd.DataFrame({'image_id': sample_submission.image_id, 'label': predicted})\n",
    "# submission.to_csv('submission.csv', index=False) "
   ]
  },
  {
   "cell_type": "code",
   "execution_count": 26,
   "metadata": {},
   "outputs": [
    {
     "data": {
      "text/html": [
       "<div>\n",
       "<style scoped>\n",
       "    .dataframe tbody tr th:only-of-type {\n",
       "        vertical-align: middle;\n",
       "    }\n",
       "\n",
       "    .dataframe tbody tr th {\n",
       "        vertical-align: top;\n",
       "    }\n",
       "\n",
       "    .dataframe thead th {\n",
       "        text-align: right;\n",
       "    }\n",
       "</style>\n",
       "<table border=\"1\" class=\"dataframe\">\n",
       "  <thead>\n",
       "    <tr style=\"text-align: right;\">\n",
       "      <th></th>\n",
       "      <th>image_id</th>\n",
       "      <th>label</th>\n",
       "    </tr>\n",
       "  </thead>\n",
       "  <tbody>\n",
       "    <tr>\n",
       "      <th>0</th>\n",
       "      <td>2216849948.jpg</td>\n",
       "      <td>4</td>\n",
       "    </tr>\n",
       "  </tbody>\n",
       "</table>\n",
       "</div>"
      ],
      "text/plain": [
       "         image_id  label\n",
       "0  2216849948.jpg      4"
      ]
     },
     "execution_count": 26,
     "metadata": {},
     "output_type": "execute_result"
    }
   ],
   "source": [
    "submission"
   ]
  }
 ],
 "metadata": {
  "kernelspec": {
   "display_name": "Python 3 (ipykernel)",
   "language": "python",
   "name": "python3"
  },
  "language_info": {
   "codemirror_mode": {
    "name": "ipython",
    "version": 3
   },
   "file_extension": ".py",
   "mimetype": "text/x-python",
   "name": "python",
   "nbconvert_exporter": "python",
   "pygments_lexer": "ipython3",
   "version": "3.9.12"
  }
 },
 "nbformat": 4,
 "nbformat_minor": 4
}
